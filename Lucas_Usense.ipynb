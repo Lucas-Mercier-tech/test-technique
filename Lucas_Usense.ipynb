{
  "nbformat": 4,
  "nbformat_minor": 0,
  "metadata": {
    "colab": {
      "provenance": []
    },
    "kernelspec": {
      "name": "python3",
      "display_name": "Python 3"
    },
    "language_info": {
      "name": "python"
    }
  },
  "cells": [
    {
      "cell_type": "code",
      "execution_count": 56,
      "metadata": {
        "colab": {
          "base_uri": "https://localhost:8080/"
        },
        "id": "dGvmEPqUBDuP",
        "outputId": "e0bd9789-dbef-4575-e23c-b7589214540f"
      },
      "outputs": [
        {
          "output_type": "stream",
          "name": "stdout",
          "text": [
            "--2022-12-17 17:43:19--  https://www.openml.org/data/download/52617/tecator.arff\n",
            "Resolving www.openml.org (www.openml.org)... 131.155.11.11\n",
            "Connecting to www.openml.org (www.openml.org)|131.155.11.11|:443... connected.\n",
            "HTTP request sent, awaiting response... 307 Temporary Redirect\n",
            "Location: https://api.openml.org/data/download/52617/tecator.arff [following]\n",
            "--2022-12-17 17:43:20--  https://api.openml.org/data/download/52617/tecator.arff\n",
            "Resolving api.openml.org (api.openml.org)... 131.155.11.11\n",
            "Connecting to api.openml.org (api.openml.org)|131.155.11.11|:443... connected.\n",
            "HTTP request sent, awaiting response... 200 OK\n",
            "Length: 250961 (245K) [text/plain]\n",
            "Saving to: ‘tecator.arff.20’\n",
            "\n",
            "tecator.arff.20     100%[===================>] 245.08K   630KB/s    in 0.4s    \n",
            "\n",
            "2022-12-17 17:43:21 (630 KB/s) - ‘tecator.arff.20’ saved [250961/250961]\n",
            "\n"
          ]
        }
      ],
      "source": [
        "!wget https://www.openml.org/data/download/52617/tecator.arff\n",
        "from scipy.io import arff\n",
        "import pandas as pd\n",
        "import numpy as np\n",
        "\n",
        "arff_data = arff.loadarff('tecator.arff')\n",
        "data = pd.DataFrame(arff_data[0])\n",
        "\n",
        "total_components_count = 22\n",
        "my_random_state = 0"
      ]
    },
    {
      "cell_type": "markdown",
      "source": [
        "Drop the extrapolation data."
      ],
      "metadata": {
        "id": "fZgvEBK_G12x"
      }
    },
    {
      "cell_type": "code",
      "source": [
        "data = data[0:215]"
      ],
      "metadata": {
        "id": "O-jR1LAEDZ2E"
      },
      "execution_count": 57,
      "outputs": []
    },
    {
      "cell_type": "markdown",
      "source": [
        "Put the validation data aside (random_state is provided for reproducibility, and avoid contamination).\n",
        "\n",
        "Training_data includes both training and testing (as they will be split depending on the model)."
      ],
      "metadata": {
        "id": "QpqFdAuNI1Ii"
      }
    },
    {
      "cell_type": "code",
      "source": [
        "\n",
        "validation_data = data.sample(n=30, random_state=my_random_state)\n",
        "training_data = data.drop(validation_data.index)\n"
      ],
      "metadata": {
        "id": "WNQ09jdlI1Uh"
      },
      "execution_count": 58,
      "outputs": []
    },
    {
      "cell_type": "markdown",
      "source": [
        "This function remembers the best model evaluated so far (according to its score on the testing set), so it  can be used in the end to assess its actual performance on the validation set."
      ],
      "metadata": {
        "id": "hC916Ra-9t-S"
      }
    },
    {
      "cell_type": "code",
      "source": [
        "from sklearn.model_selection import KFold\n",
        "from itertools import combinations_with_replacement\n",
        "from sklearn import clone\n",
        "best_score = None\n",
        "best_model = None\n",
        "best_component_count = None\n",
        "\n",
        "\n",
        "def evaluate_model(base_model, components_count=total_components_count, polynomial_degree=1):\n",
        "  global best_score\n",
        "  global best_model\n",
        "  global best_component_count\n",
        "  training_components = training_data[[f\"principal_component_{i}\" for i in range(1, components_count+1)]]\n",
        "  training_fat = training_data['fat']\n",
        "  scores_test = []\n",
        "  scores_train = []\n",
        "  if (polynomial_degree > 1):\n",
        "    for degree in range(2, polynomial_degree+1):\n",
        "      for combo in combinations_with_replacement(range(1, components_count+1), degree):\n",
        "        training_components['_'.join([str(n) for n in combo])] = training_components[[f\"principal_component_{i}\" for i in combo]].prod(axis=1)\n",
        "  cv = KFold(random_state=my_random_state, shuffle=True)\n",
        "  for train_index, test_index in cv.split(training_data):\n",
        "    X_train, X_test, y_train, y_test = training_components.iloc[train_index], training_components.iloc[test_index], training_fat.iloc[train_index], training_fat.iloc[test_index]\n",
        "    model = clone(base_model)\n",
        "    model.fit(X_train, y_train)\n",
        "    scores_train.append(model.score(X_train, y_train))\n",
        "    scores_test.append(model.score(X_test, y_test))\n",
        "  if (best_score is None or (np.mean(scores_test) > best_score)):\n",
        "    best_score = np.mean(scores_test)\n",
        "    best_model = clone(base_model)\n",
        "    best_component_count = components_count\n",
        "    print(f'new best model: {best_model} using {best_component_count} components with a score of {best_score}')\n",
        "  return (np.mean(scores_train), np.std(scores_train), np.mean(scores_test), np.std(scores_test))\n"
      ],
      "metadata": {
        "id": "V2MmYVmtNrOT"
      },
      "execution_count": 59,
      "outputs": []
    },
    {
      "cell_type": "markdown",
      "source": [
        "Basic example and base line of use of evaluateModel."
      ],
      "metadata": {
        "id": "z7nV7eusUhZV"
      }
    },
    {
      "cell_type": "code",
      "source": [
        "def print_number(x):\n",
        "  precision = 4\n",
        "  return f'{x:.{precision}f}'\n",
        "\n",
        "\n",
        "from sklearn import linear_model\n",
        "\n",
        "for i in range(1, 23):\n",
        "  score_train, std_train, score_test, std_test = evaluate_model(linear_model.LinearRegression(), i)\n",
        "  print(f\"A linear regression with the first {i} component(s) have a performance (R², std of R²) of {print_number(score_train)} (std: {print_number(std_train)}) on the training set, and {print_number(score_test)} (std: {print_number(std_test)}) on the testing set.\")\n"
      ],
      "metadata": {
        "colab": {
          "base_uri": "https://localhost:8080/"
        },
        "id": "kZOe1nzkLVfg",
        "outputId": "4d7ea348-f67c-4cfc-a805-bd73fddef981"
      },
      "execution_count": 60,
      "outputs": [
        {
          "output_type": "stream",
          "name": "stdout",
          "text": [
            "new best model: LinearRegression() using 1 components with a score of 0.15450566811035588\n",
            "A linear regression with the first 1 component(s) have a performance (R², std of R²) of 0.2011 (std: 0.0306) on the training set, and 0.1545 (std: 0.1422) on the testing set.\n",
            "new best model: LinearRegression() using 2 components with a score of 0.16520972766812242\n",
            "A linear regression with the first 2 component(s) have a performance (R², std of R²) of 0.2158 (std: 0.0277) on the training set, and 0.1652 (std: 0.1286) on the testing set.\n",
            "new best model: LinearRegression() using 3 components with a score of 0.5253957163032359\n",
            "A linear regression with the first 3 component(s) have a performance (R², std of R²) of 0.5695 (std: 0.0387) on the training set, and 0.5254 (std: 0.1636) on the testing set.\n",
            "new best model: LinearRegression() using 4 components with a score of 0.875773756571318\n",
            "A linear regression with the first 4 component(s) have a performance (R², std of R²) of 0.8913 (std: 0.0098) on the training set, and 0.8758 (std: 0.0419) on the testing set.\n",
            "new best model: LinearRegression() using 5 components with a score of 0.9219420361944906\n",
            "A linear regression with the first 5 component(s) have a performance (R², std of R²) of 0.9334 (std: 0.0044) on the training set, and 0.9219 (std: 0.0195) on the testing set.\n",
            "new best model: LinearRegression() using 6 components with a score of 0.9406332859562978\n",
            "A linear regression with the first 6 component(s) have a performance (R², std of R²) of 0.9483 (std: 0.0030) on the training set, and 0.9406 (std: 0.0132) on the testing set.\n",
            "new best model: LinearRegression() using 7 components with a score of 0.9407389584819095\n",
            "A linear regression with the first 7 component(s) have a performance (R², std of R²) of 0.9487 (std: 0.0031) on the training set, and 0.9407 (std: 0.0139) on the testing set.\n",
            "new best model: LinearRegression() using 8 components with a score of 0.9416794648274909\n",
            "A linear regression with the first 8 component(s) have a performance (R², std of R²) of 0.9512 (std: 0.0026) on the training set, and 0.9417 (std: 0.0108) on the testing set.\n",
            "new best model: LinearRegression() using 9 components with a score of 0.9453062380789167\n",
            "A linear regression with the first 9 component(s) have a performance (R², std of R²) of 0.9539 (std: 0.0017) on the training set, and 0.9453 (std: 0.0079) on the testing set.\n",
            "new best model: LinearRegression() using 10 components with a score of 0.9455545865452706\n",
            "A linear regression with the first 10 component(s) have a performance (R², std of R²) of 0.9558 (std: 0.0017) on the training set, and 0.9456 (std: 0.0084) on the testing set.\n",
            "new best model: LinearRegression() using 11 components with a score of 0.9494178111279439\n",
            "A linear regression with the first 11 component(s) have a performance (R², std of R²) of 0.9611 (std: 0.0020) on the training set, and 0.9494 (std: 0.0096) on the testing set.\n",
            "new best model: LinearRegression() using 12 components with a score of 0.9496059548808748\n",
            "A linear regression with the first 12 component(s) have a performance (R², std of R²) of 0.9617 (std: 0.0020) on the training set, and 0.9496 (std: 0.0096) on the testing set.\n",
            "A linear regression with the first 13 component(s) have a performance (R², std of R²) of 0.9618 (std: 0.0020) on the training set, and 0.9483 (std: 0.0097) on the testing set.\n",
            "A linear regression with the first 14 component(s) have a performance (R², std of R²) of 0.9636 (std: 0.0024) on the training set, and 0.9481 (std: 0.0126) on the testing set.\n",
            "A linear regression with the first 15 component(s) have a performance (R², std of R²) of 0.9680 (std: 0.0021) on the training set, and 0.9493 (std: 0.0121) on the testing set.\n",
            "new best model: LinearRegression() using 16 components with a score of 0.9552097895420303\n",
            "A linear regression with the first 16 component(s) have a performance (R², std of R²) of 0.9701 (std: 0.0023) on the training set, and 0.9552 (std: 0.0111) on the testing set.\n",
            "A linear regression with the first 17 component(s) have a performance (R², std of R²) of 0.9732 (std: 0.0011) on the training set, and 0.9405 (std: 0.0206) on the testing set.\n",
            "A linear regression with the first 18 component(s) have a performance (R², std of R²) of 0.9760 (std: 0.0014) on the training set, and 0.9471 (std: 0.0095) on the testing set.\n",
            "A linear regression with the first 19 component(s) have a performance (R², std of R²) of 0.9765 (std: 0.0017) on the training set, and 0.9489 (std: 0.0092) on the testing set.\n",
            "A linear regression with the first 20 component(s) have a performance (R², std of R²) of 0.9770 (std: 0.0019) on the training set, and 0.9514 (std: 0.0067) on the testing set.\n",
            "new best model: LinearRegression() using 21 components with a score of 0.957669842175543\n",
            "A linear regression with the first 21 component(s) have a performance (R², std of R²) of 0.9781 (std: 0.0019) on the training set, and 0.9577 (std: 0.0100) on the testing set.\n",
            "A linear regression with the first 22 component(s) have a performance (R², std of R²) of 0.9782 (std: 0.0018) on the training set, and 0.9536 (std: 0.0071) on the testing set.\n"
          ]
        }
      ]
    },
    {
      "cell_type": "code",
      "source": [
        "print('Lasso', evaluate_model(linear_model.Lasso(), 22, polynomial_degree=2))\n"
      ],
      "metadata": {
        "colab": {
          "base_uri": "https://localhost:8080/"
        },
        "id": "Mf7RfJQ1UCbH",
        "outputId": "eaf45142-7580-4005-d54c-e480a10f9e40"
      },
      "execution_count": 61,
      "outputs": [
        {
          "output_type": "stream",
          "name": "stderr",
          "text": [
            "<ipython-input-59-bf78e3f049d2>:20: SettingWithCopyWarning: \n",
            "A value is trying to be set on a copy of a slice from a DataFrame.\n",
            "Try using .loc[row_indexer,col_indexer] = value instead\n",
            "\n",
            "See the caveats in the documentation: https://pandas.pydata.org/pandas-docs/stable/user_guide/indexing.html#returning-a-view-versus-a-copy\n",
            "  training_components['_'.join([str(n) for n in combo])] = training_components[[f\"principal_component_{i}\" for i in combo]].prod(axis=1)\n"
          ]
        },
        {
          "output_type": "stream",
          "name": "stdout",
          "text": [
            "Lasso (0.9151572281094659, 0.004856124694133833, 0.8815243751767856, 0.025824393500973476)\n"
          ]
        }
      ]
    },
    {
      "cell_type": "code",
      "source": [
        "from sklearn.neighbors import KNeighborsRegressor\n",
        "print('KNeighborsRegressor', evaluate_model(KNeighborsRegressor(n_neighbors=5)))"
      ],
      "metadata": {
        "colab": {
          "base_uri": "https://localhost:8080/"
        },
        "id": "FzwcP9Q4mYzh",
        "outputId": "b79e50c6-b447-4960-9b02-0bb10abbacec"
      },
      "execution_count": 62,
      "outputs": [
        {
          "output_type": "stream",
          "name": "stdout",
          "text": [
            "KNeighborsRegressor (0.8772835111787781, 0.011777632223386672, 0.7961846899125573, 0.05304600307948361)\n"
          ]
        }
      ]
    },
    {
      "cell_type": "code",
      "source": [
        "from sklearn.ensemble import RandomForestRegressor\n",
        "print('RandomForestRegressor', evaluate_model(RandomForestRegressor(n_estimators=100)))"
      ],
      "metadata": {
        "colab": {
          "base_uri": "https://localhost:8080/"
        },
        "id": "5oSSeBObm4E6",
        "outputId": "36a9059b-36de-4d1a-ef83-5635a927cf0d"
      },
      "execution_count": 63,
      "outputs": [
        {
          "output_type": "stream",
          "name": "stdout",
          "text": [
            "RandomForestRegressor (0.9765244991952834, 0.003371865259452384, 0.8021442237670341, 0.11047787593454221)\n"
          ]
        }
      ]
    },
    {
      "cell_type": "code",
      "source": [
        "from sklearn.svm import SVR\n",
        "print('SVR', evaluate_model(SVR()))"
      ],
      "metadata": {
        "colab": {
          "base_uri": "https://localhost:8080/"
        },
        "id": "I58WnPVpord5",
        "outputId": "5c7e16b5-7168-42bd-827b-f2bda5195af4"
      },
      "execution_count": 64,
      "outputs": [
        {
          "output_type": "stream",
          "name": "stdout",
          "text": [
            "SVR (0.4322575404023068, 0.009660893957462835, 0.35008398823242787, 0.09109943450435609)\n"
          ]
        }
      ]
    },
    {
      "cell_type": "code",
      "source": [
        "from sklearn.neural_network import MLPRegressor\n",
        "\n",
        "def evaluate_NN(size, component_size = total_components_count):\n",
        "  print(f'MLPRegressor with hidden layers of size {size} and {component_size} components: ', evaluate_model(MLPRegressor(hidden_layer_sizes=size, max_iter=100000, random_state=my_random_state), component_size))\n"
      ],
      "metadata": {
        "id": "y5oszDKRteq4"
      },
      "execution_count": 65,
      "outputs": []
    },
    {
      "cell_type": "markdown",
      "source": [
        "This takes quite some time, so for demonstration purposes, I only take the winner (size = 2 & component_count = 14)."
      ],
      "metadata": {
        "id": "-WY-oNqKA7A3"
      }
    },
    {
      "cell_type": "code",
      "source": [
        "# for size in range(1, 8):\n",
        "#   for component_count in range(3, min(23, 50 // size)):\n",
        "#     evaluate_NN(size, component_count)\n",
        "evaluate_NN(2, 14)"
      ],
      "metadata": {
        "colab": {
          "base_uri": "https://localhost:8080/"
        },
        "id": "szamiv4-2OBE",
        "outputId": "fc68a296-9b85-41ae-aed0-c2f397bc987d"
      },
      "execution_count": 66,
      "outputs": [
        {
          "output_type": "stream",
          "name": "stdout",
          "text": [
            "MLPRegressor with hidden layers of size 1 and 3 components:  (0.6083119922643515, 0.030394020947867327, 0.5568282822953341, 0.17130583528956908)\n",
            "MLPRegressor with hidden layers of size 1 and 4 components:  (0.8927851404138696, 0.009310462583686237, 0.8773077275418102, 0.03992141702852902)\n",
            "MLPRegressor with hidden layers of size 1 and 5 components:  (0.9331671802491848, 0.004359734920118528, 0.9215732149596582, 0.0204608459459247)\n",
            "MLPRegressor with hidden layers of size 1 and 6 components:  (0.94809099171203, 0.003003802928733829, 0.9404693229077157, 0.013932831454565593)\n",
            "MLPRegressor with hidden layers of size 1 and 7 components:  (0.9484949767144499, 0.0031403663853489076, 0.9404945251493257, 0.014696457474882994)\n",
            "MLPRegressor with hidden layers of size 1 and 8 components:  (0.9509841339754164, 0.0026054653187758884, 0.9413289707134285, 0.011535471771624523)\n",
            "MLPRegressor with hidden layers of size 1 and 9 components:  (0.9537605935354978, 0.0017470004368508002, 0.9449314567113397, 0.0084504892298458)\n",
            "MLPRegressor with hidden layers of size 1 and 10 components:  (0.9556176453687586, 0.0016996944422233264, 0.9453755413107399, 0.008764174862338924)\n",
            "MLPRegressor with hidden layers of size 1 and 11 components:  (0.960760206135874, 0.0019507271142147203, 0.9490756812433343, 0.009836480952975337)\n",
            "MLPRegressor with hidden layers of size 1 and 12 components:  (0.9615310918211387, 0.001972724169274042, 0.9494706238980946, 0.009642887172026526)\n",
            "MLPRegressor with hidden layers of size 1 and 13 components:  (-0.0006058061766565537, 2.3318194572123197e-05, -0.02083605033432758, 0.01584701211745363)\n",
            "MLPRegressor with hidden layers of size 1 and 14 components:  (0.780665444363353, 0.39066388724146206, 0.7640178413248664, 0.3890878268994594)\n",
            "MLPRegressor with hidden layers of size 1 and 15 components:  (0.7793358363835857, 0.3899783640645054, 0.7631996893281154, 0.4019492319903626)\n",
            "MLPRegressor with hidden layers of size 1 and 16 components:  (0.9690956148566284, 0.0023460033636730016, 0.9575275131639929, 0.012482673804430624)\n",
            "MLPRegressor with hidden layers of size 1 and 17 components:  (0.9719487062617296, 0.001035028484983176, 0.9474609580815716, 0.012455834811956475)\n",
            "MLPRegressor with hidden layers of size 1 and 18 components:  (0.9747499997435204, 0.001531172922487084, 0.9483047734375702, 0.017193422600807327)\n",
            "MLPRegressor with hidden layers of size 1 and 19 components:  (0.9754800754794062, 0.0019470994377867004, 0.9528617941363529, 0.01584436166620011)\n",
            "MLPRegressor with hidden layers of size 1 and 20 components:  (0.9734604184819498, 0.002058798407431457, 0.9426337459148855, 0.021764613410878597)\n",
            "MLPRegressor with hidden layers of size 1 and 21 components:  (0.9741883665141232, 0.0020954032784957465, 0.9358072933557512, 0.019315988041428395)\n",
            "MLPRegressor with hidden layers of size 1 and 22 components:  (0.9756517304711189, 0.0020682385884333303, 0.9416642075289852, 0.019824293161059717)\n",
            "MLPRegressor with hidden layers of size 2 and 3 components:  (0.6249853270169197, 0.03351617054685056, 0.5845996279863658, 0.1450921986444213)\n",
            "MLPRegressor with hidden layers of size 2 and 4 components:  (0.9040815267442662, 0.01106313588131716, 0.8885711342316289, 0.03563839842487165)\n",
            "MLPRegressor with hidden layers of size 2 and 5 components:  (0.9332965075060002, 0.004318940923694578, 0.9180880955089993, 0.021008575045451117)\n",
            "MLPRegressor with hidden layers of size 2 and 6 components:  (0.3870106511006939, 0.4747379470575363, 0.36273257365896144, 0.4796905641781459)\n",
            "new best model: MLPRegressor(hidden_layer_sizes=2, max_iter=100000, random_state=0) using 7 components with a score of 0.9735558397576757\n",
            "MLPRegressor with hidden layers of size 2 and 7 components:  (0.9808494245175379, 0.015318948312081117, 0.9735558397576757, 0.01996382299760119)\n",
            "MLPRegressor with hidden layers of size 2 and 8 components:  (0.9529792343732943, 0.0018807173898548312, 0.9403206994552455, 0.008723965927065374)\n",
            "MLPRegressor with hidden layers of size 2 and 9 components:  (0.9591825573116253, 0.0024703799537493694, 0.9462444633347207, 0.012021215838951596)\n",
            "MLPRegressor with hidden layers of size 2 and 10 components:  (0.9643190734605467, 0.002904124154562153, 0.946774509119682, 0.015000104263622987)\n",
            "new best model: MLPRegressor(hidden_layer_sizes=2, max_iter=100000, random_state=0) using 11 components with a score of 0.9813347054946767\n",
            "MLPRegressor with hidden layers of size 2 and 11 components:  (0.989653500727347, 0.009904420989763142, 0.9813347054946767, 0.01419571782424981)\n",
            "MLPRegressor with hidden layers of size 2 and 12 components:  (0.9816072233358147, 0.010464068533168972, 0.9644884073779775, 0.02318332594788862)\n",
            "MLPRegressor with hidden layers of size 2 and 13 components:  (0.9714440305147916, 0.0014574494685201849, 0.9538792756874408, 0.0036413176381733113)\n",
            "new best model: MLPRegressor(hidden_layer_sizes=2, max_iter=100000, random_state=0) using 14 components with a score of 0.9888062278871106\n",
            "MLPRegressor with hidden layers of size 2 and 14 components:  (0.9947587367277608, 0.0006262151218011946, 0.9888062278871106, 0.004106915154310001)\n",
            "MLPRegressor with hidden layers of size 2 and 15 components:  (0.9717196618536365, 0.0011634695460285634, 0.942840062521363, 0.012787038154779594)\n",
            "MLPRegressor with hidden layers of size 2 and 16 components:  (0.9899031580955295, 0.010240197731053786, 0.9817530714610004, 0.015549074427322257)\n",
            "MLPRegressor with hidden layers of size 2 and 17 components:  (0.9765825549128557, 0.0028923938283180748, 0.9264355938867883, 0.025325348136125112)\n",
            "MLPRegressor with hidden layers of size 2 and 18 components:  (0.979288665811605, 0.0023309939748655563, 0.9342740113302153, 0.029849291730768567)\n",
            "MLPRegressor with hidden layers of size 2 and 19 components:  (0.9806953384244459, 0.00190973265517964, 0.9428278014713412, 0.015932586069873553)\n",
            "MLPRegressor with hidden layers of size 2 and 20 components:  (0.9946618154176103, 0.0004832352570183966, 0.9760863552141081, 0.012218603617917101)\n",
            "MLPRegressor with hidden layers of size 2 and 21 components:  (0.9822606354547861, 0.002857591845398387, 0.9446817082274771, 0.016811487846194247)\n",
            "MLPRegressor with hidden layers of size 2 and 22 components:  (0.9879770911899939, 0.011928974399997795, 0.9659757565573793, 0.015247713250450054)\n",
            "MLPRegressor with hidden layers of size 3 and 3 components:  (0.6900692642453095, 0.04169528180080741, 0.6335943841862894, 0.16022178121132225)\n",
            "MLPRegressor with hidden layers of size 3 and 4 components:  (0.9152861456358983, 0.023631628640290305, 0.9005266840543446, 0.015237909712652705)\n",
            "MLPRegressor with hidden layers of size 3 and 5 components:  (0.9375068267162392, 0.004877746315856222, 0.921448189663419, 0.022184936504867237)\n",
            "MLPRegressor with hidden layers of size 3 and 6 components:  (0.948788372140173, 0.0034669272846765426, 0.9368773213446706, 0.014686188133764962)\n",
            "MLPRegressor with hidden layers of size 3 and 7 components:  (0.9925090694092817, 0.0006996797765706892, 0.9866111701623567, 0.003627509609523701)\n",
            "MLPRegressor with hidden layers of size 3 and 8 components:  (0.9578470742187759, 0.001801463508821106, 0.9370156814305808, 0.02545225046518823)\n",
            "MLPRegressor with hidden layers of size 3 and 9 components:  (0.9935798854664049, 0.00044735932998992995, 0.9784303047091368, 0.013277846100785551)\n",
            "MLPRegressor with hidden layers of size 3 and 10 components:  (0.9779785809950662, 0.013647841916595497, 0.9573220130895697, 0.027114329064630092)\n",
            "MLPRegressor with hidden layers of size 3 and 11 components:  (0.9708691435885214, 0.003058233234263297, 0.9442114793385004, 0.011927754339781672)\n",
            "MLPRegressor with hidden layers of size 3 and 12 components:  (0.9708712659668338, 0.0016432522557190286, 0.944027985131098, 0.013645161694281214)\n",
            "MLPRegressor with hidden layers of size 3 and 13 components:  (0.9833117053946209, 0.010534292638763642, 0.9588906338602735, 0.020845380196544198)\n",
            "MLPRegressor with hidden layers of size 3 and 14 components:  (0.982339173233284, 0.01602936340187214, 0.9736048190907539, 0.019957110972681987)\n",
            "MLPRegressor with hidden layers of size 3 and 15 components:  (0.9938270166967659, 0.001896307670460045, 0.9823820434332233, 0.00900084578403763)\n",
            "MLPRegressor with hidden layers of size 4 and 3 components:  (0.7130510747031258, 0.039214042595832846, 0.6119425122291157, 0.12721701184210255)\n",
            "MLPRegressor with hidden layers of size 4 and 4 components:  (0.9071251983983201, 0.008505042632730542, 0.8882852221769559, 0.03757714778452963)\n",
            "MLPRegressor with hidden layers of size 4 and 5 components:  (0.9820833193507271, 0.0015032258209351876, 0.9744110313857455, 0.005448202097859408)\n",
            "MLPRegressor with hidden layers of size 4 and 6 components:  (0.9660499504198274, 0.007639074547862188, 0.9471720720557564, 0.019704448720740893)\n",
            "MLPRegressor with hidden layers of size 4 and 7 components:  (0.9600497611732658, 0.01631929526433927, 0.9546535459537242, 0.019736299252670994)\n",
            "MLPRegressor with hidden layers of size 4 and 8 components:  (0.9591751417032514, 0.0037728549052023935, 0.9432437194784835, 0.008271538759039507)\n",
            "MLPRegressor with hidden layers of size 4 and 9 components:  (0.9910928115698974, 0.005061483097357918, 0.970814920820918, 0.023357943772603987)\n",
            "MLPRegressor with hidden layers of size 4 and 10 components:  (0.9939168099843698, 0.003193144084897141, 0.9821881971665419, 0.013445394590570422)\n",
            "MLPRegressor with hidden layers of size 4 and 11 components:  (0.9751149498500948, 0.003886290449304309, 0.939491914107512, 0.01583222266998032)\n",
            "MLPRegressor with hidden layers of size 5 and 3 components:  (0.6940071955776647, 0.04249950987747005, 0.6303925481310667, 0.15549961766161072)\n",
            "MLPRegressor with hidden layers of size 5 and 4 components:  (0.9368434260968129, 0.005093318089508889, 0.9127820691064953, 0.02572549072187909)\n",
            "MLPRegressor with hidden layers of size 5 and 5 components:  (0.9834553866395066, 0.001265001879298785, 0.9747967565919093, 0.007903029565414017)\n",
            "MLPRegressor with hidden layers of size 5 and 6 components:  (0.9493846700730797, 0.003654177270792279, 0.935576783804479, 0.019559947330998702)\n",
            "MLPRegressor with hidden layers of size 5 and 7 components:  (0.986481118460375, 0.005468374458466564, 0.9696726703988754, 0.021879378401892746)\n",
            "MLPRegressor with hidden layers of size 5 and 8 components:  (0.9887556956524355, 0.010917559972773747, 0.9782169890914941, 0.022422116347494525)\n",
            "MLPRegressor with hidden layers of size 5 and 9 components:  (0.9935894072203068, 0.0008749626616900338, 0.9712426439691442, 0.013730233020624222)\n",
            "MLPRegressor with hidden layers of size 6 and 3 components:  (0.6937331850469955, 0.07034755657274022, 0.6318885756365903, 0.12867193257148965)\n",
            "MLPRegressor with hidden layers of size 6 and 4 components:  (0.9308173558097967, 0.010076026835514725, 0.9025922339150014, 0.026532594168334266)\n",
            "MLPRegressor with hidden layers of size 6 and 5 components:  (0.9424598786658469, 0.005263299229260288, 0.9219749846108976, 0.024160188732485193)\n",
            "MLPRegressor with hidden layers of size 6 and 6 components:  (0.9918371498314318, 0.0005880941248482841, 0.9851051935988633, 0.0048403218752228905)\n",
            "MLPRegressor with hidden layers of size 6 and 7 components:  (0.9561614588345589, 0.003583619374431765, 0.9331669832436349, 0.025504837354200203)\n",
            "MLPRegressor with hidden layers of size 7 and 3 components:  (0.7106725233916865, 0.04312097560354456, 0.6410757485564196, 0.1654377483967598)\n",
            "MLPRegressor with hidden layers of size 7 and 4 components:  (0.910490717197874, 0.00832923781315485, 0.8889538050881278, 0.036964712954614815)\n",
            "MLPRegressor with hidden layers of size 7 and 5 components:  (0.9838103831826436, 0.0015264738628663903, 0.977356983867446, 0.0067568482289933045)\n",
            "MLPRegressor with hidden layers of size 7 and 6 components:  (0.9913783234359428, 0.0018272121788030153, 0.980453988211384, 0.009201170577035659)\n"
          ]
        }
      ]
    },
    {
      "cell_type": "markdown",
      "source": [
        "Final evaluation"
      ],
      "metadata": {
        "id": "SuiMkR8v_VPK"
      }
    },
    {
      "cell_type": "code",
      "source": [
        "best_model.fit(training_data[[f\"principal_component_{i}\" for i in range(1, best_component_count + 1)]], training_data['fat'])\n",
        "print(best_model.score(validation_data[[f\"principal_component_{i}\" for i in range(1, best_component_count + 1)]], validation_data['fat']))"
      ],
      "metadata": {
        "colab": {
          "base_uri": "https://localhost:8080/"
        },
        "id": "SzQd5A_B7x_K",
        "outputId": "66929a31-cb98-4336-a7ed-8f8d1e42bc28"
      },
      "execution_count": 67,
      "outputs": [
        {
          "output_type": "stream",
          "name": "stdout",
          "text": [
            "0.9907263091807177\n"
          ]
        }
      ]
    }
  ]
}